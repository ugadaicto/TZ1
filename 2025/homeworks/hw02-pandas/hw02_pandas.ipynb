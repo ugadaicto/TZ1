{
  "cells": [
    {
      "cell_type": "markdown",
      "metadata": {
        "_uuid": "21c25e4f8bb31570029fd6b069131a5d00f84cf1",
        "id": "qECCALXWX2Nm"
      },
      "source": [
        "# Домашнее задание 2 (5 баллов).\n",
        "\n",
        "*Все задания ниже имеют равный вес (5/10)*"
      ]
    },
    {
      "cell_type": "markdown",
      "metadata": {
        "id": "vg3ERvh0X2Nn"
      },
      "source": [
        "Код для импорта мы написали за вас (не благодарите, нам не трудно). Дальше код будете писать вы.\n",
        "\n",
        "[Тут](https://habr.com/ru/companies/ruvds/articles/494720/) шпора по pandas. За основу домашнего задания взят ноутбук [отсюда](https://rutube.ru/video/f884aa6ed5f94120b7304506042fe5bb/) (не подглядывайте!)."
      ]
    },
    {
      "cell_type": "code",
      "execution_count": 3,
      "metadata": {
        "_uuid": "568eb2d31004b87d22e119112ae01a1e75105f1d",
        "id": "ebTxf37vX2Nn"
      },
      "outputs": [],
      "source": [
        "import pandas as pd\n",
        "import numpy as np"
      ]
    },
    {
      "cell_type": "markdown",
      "metadata": {
        "id": "Flje06nzX2No"
      },
      "source": [
        "#### Описание данных\n",
        "\n",
        "Автор д/з - плохой человек, который не стал переводить описание с мотивировкой, что весь DS на английском. Так что описание полей будет на английском:\n",
        "\n",
        "1. Account ID\n",
        "- Description: A unique identifier for each social media account in the dataset.\n",
        "- Type: Integer\n",
        "- Example: 1, 2, 3, …\n",
        "2. Username\n",
        "- Description: The username or handle of the social media account.\n",
        "- Type: String\n",
        "- Example: john_doe, tech_guru_22, fitness_freak\n",
        "3. Platform\n",
        "- Description: The social media platform the account is using (Instagram, Twitter, Facebook, TikTok, LinkedIn).\n",
        "- Type: Categorical (String)\n",
        "- Example: Instagram, Twitter, Facebook, TikTok, LinkedIn\n",
        "4. Follower Count\n",
        "- Description: The total number of followers the account has.\n",
        "- Type: Integer\n",
        "- Example: 1500, 245000, 78000\n",
        "5. Posts Per Week\n",
        "- Description: The average number of posts the account creates per week.\n",
        "- Type: Integer\n",
        "- Example: 3, 5, 7\n",
        "6. Engagement Rate\n",
        "- Description: The percentage of interactions (likes, comments, shares) relative to the follower count. This is a measure of how engaging the content is.\n",
        "- Type: Float\n",
        "- Range: 0.01 to 0.15\n",
        "- Example: 0.045 (4.5% engagement rate)\n",
        "7. Ad Spend (USD)\n",
        "- Description: The monthly amount spent on advertising or promoting posts.\n",
        "- Type: Float\n",
        "- Example: 150.75, 850.00, 300.50\n",
        "8. Conversion Rate\n",
        "- Description: The percentage of users who take a desired action (e.g., clicking a link, signing up, etc.) after interacting with an ad.\n",
        "- Type: Float\n",
        "- Range: 0.01 to 0.05 (1% to 5% conversion rate)\n",
        "- Example: 0.025 (2.5% conversion rate)\n",
        "9. Campaign Reach\n",
        "- Description: The total number of unique users reached by the user’s campaigns in a given month.\n",
        "- Type: Integer\n",
        "- Example: 5000, 20000, 15000"
      ]
    },
    {
      "cell_type": "markdown",
      "metadata": {
        "id": "Evlp-h_DX2No"
      },
      "source": [
        "#### Задание 0\n",
        "\n",
        "Подгрузите данные. Да-да, за чтение таблицы баллов не будет))\n",
        "\n",
        "**Hint**: [pd.read_csv](https://pandas.pydata.org/pandas-docs/stable/reference/api/pandas.read_csv.html)"
      ]
    },
    {
      "cell_type": "code",
      "execution_count": null,
      "metadata": {
        "id": "WcndGZiUX2No"
      },
      "outputs": [],
      "source": [
        "df = ... # ^⨀ᴥ⨀^"
      ]
    },
    {
      "cell_type": "code",
      "execution_count": 5,
      "metadata": {
        "id": "eZ1mdw5wX2No"
      },
      "outputs": [],
      "source": [
        "df = pd.read_csv(\"data.csv\")"
      ]
    },
    {
      "cell_type": "markdown",
      "metadata": {
        "id": "b3J1ZhYJX2No"
      },
      "source": [
        "#### Задание 1\n",
        "\n",
        "Колонка `Platform` содержит название различных платформ. Давайте представим, что в них есть некоторое отношение порядка. Закодируйте каждую платформу целым числом (от 0 до N) и положите этот \"код\" в новую колонку `Platform_Code`. Теперь вычислите корреляцию Спирмена между всеми парами колонок в датасете (результатом будет таблица корреляций). В качестве ответа выведите значение корреляции `Platform_Code` с `Engagement Rate`. Можете после вывода числа еще коротко написать, что оно означает (нет, это не оценивается).\n",
        "\n",
        "**Hint**: [pd.factorize](https://pandas.pydata.org/pandas-docs/stable/reference/api/pandas.factorize.html), [pd.DataFrame.select_dtypes](https://pandas.pydata.org/pandas-docs/stable/reference/api/pandas.DataFrame.select_dtypes.html), [pd.DataFrame.corr](https://pandas.pydata.org/pandas-docs/stable/reference/api/pandas.DataFrame.corr.html)."
      ]
    },
    {
      "cell_type": "code",
      "execution_count": 6,
      "metadata": {
        "id": "ltTYJd9TX2No",
        "outputId": "12c3dbdb-fd15-4fdb-95b5-cfdf64aef796",
        "colab": {
          "base_uri": "https://localhost:8080/"
        }
      },
      "outputs": [
        {
          "output_type": "execute_result",
          "data": {
            "text/plain": [
              "0.03138169529349812"
            ]
          },
          "metadata": {},
          "execution_count": 6
        }
      ],
      "source": [
        "# ( ੭ ･ᴗ･ )੭\n",
        "\n",
        "df[\"Platform_Code\"] = pd.factorize(df[\"Platform\"])[0]\n",
        "spearman = df.select_dtypes(exclude=['string', 'object']).corr(method='spearman')\n",
        "\n",
        "spearman[\"Platform_Code\"][\"Engagement Rate\"]\n",
        "\n"
      ]
    },
    {
      "cell_type": "markdown",
      "metadata": {
        "id": "zdVKTWNUX2No"
      },
      "source": [
        "#### Задание 2\n",
        "\n",
        "Теперь посмотрите на столбец `Follower Count`. В нем какие-то числа. Иногда бывает полезно провести дискретизацию такого признака. Разбейте все значения в столбце на 4 группы: \"Low\", \"Medium\", \"High\", \"Very High\". Каждая группа включает в себя новые 25% данных. То есть, Low включает в себя 25% самых маленьких значений признака и так далее. Положите значения \"Low\", \"Medium\", \"High\" или \"Very High\" для каждого сэмпла датасета в новую колонку `Follower_Bin`. Теперь посчитайте среднее значение `Engagement Rate` для каждой категории из `Follower_Bin`. В качестве ответа выведите значение для категории \"High\".\n",
        "\n",
        "**Hint**: [pd.qcut](https://pandas.pydata.org/pandas-docs/stable/reference/api/pandas.qcut.html), [pd.groupby](https://pandas.pydata.org/pandas-docs/stable/reference/api/pandas.DataFrame.groupby.html), [pd.DataFrame.mean](https://pandas.pydata.org/pandas-docs/stable/reference/api/pandas.DataFrame.mean.html)"
      ]
    },
    {
      "cell_type": "code",
      "execution_count": 7,
      "metadata": {
        "id": "WJ-plaSvX2Np",
        "outputId": "b17a8e0d-85c3-440d-e1b6-ff6c261a5a7d",
        "colab": {
          "base_uri": "https://localhost:8080/"
        }
      },
      "outputs": [
        {
          "output_type": "stream",
          "name": "stderr",
          "text": [
            "<ipython-input-7-31bc513b4ec5>:4: FutureWarning: The default of observed=False is deprecated and will be changed to True in a future version of pandas. Pass observed=False to retain current behavior or observed=True to adopt the future default and silence this warning.\n",
            "  means = df.groupby('Follower_Bin')['Follower Count'].mean()\n"
          ]
        },
        {
          "output_type": "execute_result",
          "data": {
            "text/plain": [
              "628407.5112"
            ]
          },
          "metadata": {},
          "execution_count": 7
        }
      ],
      "source": [
        "# (◕^^◕)\n",
        "\n",
        "df[\"Follower_Bin\"] = pd.qcut(df[\"Follower Count\"], 4, labels=[\"Low\", \"Medium\", \"High\", \"Very High\"])\n",
        "means = df.groupby('Follower_Bin')['Follower Count'].mean()\n",
        "means['High']\n"
      ]
    },
    {
      "cell_type": "markdown",
      "metadata": {
        "id": "pOYz2Lr9X2Np"
      },
      "source": [
        "#### Задание 3\n",
        "\n",
        "Иногда бывает полезно превратить широкую таблицу в длинную (например, для визуализаций сразу нескольких признаков на одной картинке). Да, звучит странно, но именно этим вы сейчас и займетесь. Сделайте новый датафрейм `melted_df`, в который вы поместите каждый сэмпл датасета 6 раз: по одному разу на значение из 'Follower Count', 'Posts Per Week', 'Ad Spend (USD)', 'Conversion Rate', 'Engagement Rate' и 'Campaign Reach'. То есть, вы берете сэмпл из датасета (строку) и превращаете ее в 6 отдельных строк. Каждая отдельная строка в столбце `Metric` имеет имя из предложенного списка 5 признаков, а в столбце `Value` - значение данного сэмпла по этому признаку. Значение `Platform` повторяется в этих 6 строках.\n",
        "\n",
        "Иначе говоря,\n",
        "\n",
        "```json\n",
        "{\n",
        "    \"Account ID\": 1,\n",
        "    \"Username\": \"harrislisa\",\n",
        "    \"Platform\": \"TikTok\",\n",
        "    \"Follower Count\": 54217,\n",
        "    \"Posts Per Week\": 3,\n",
        "    \"Engagement Rate\": 0.0986,\n",
        "    \"Ad Spend (USD)\": 538.1,\n",
        "    \"Conversion Rate\": 0.049,\n",
        "    \"Campaign Reach\": 1308,\n",
        "    \"Platform_Code\": 0,\n",
        "    \"Follower_Bin\": \"Low\"\n",
        "}\n",
        "```\n",
        "\n",
        "превращается в\n",
        "\n",
        "```json\n",
        "{\n",
        "    \"Platform\": \"TikTok\",\n",
        "    \"Metric\": \"Follower Count\",\n",
        "    \"Value\": 54217,\n",
        "},\n",
        "{\n",
        "    \"Platform\": \"TikTok\",\n",
        "    \"Metric\": \"Posts Per Week\",\n",
        "    \"Value\": 3,\n",
        "}, ...\n",
        "```\n",
        "\n",
        "Для каждого уникальной пары значений (`Platform`, `Metric`) посчитайте моду среди всех значений `Value` для этой пары, результат сделайте списком и оставьте только наибольшее. В качестве ответа выведите сумму полученных мод (сумму всех значений в столбце `Value` уже после вычисления мод). Иначе говоря, выведите сумму всех мод значений для всех уникальных пар (`Platform`, `Metric`).\n",
        "\n",
        "**Hint**: [pd.melt](https://pandas.pydata.org/pandas-docs/stable/reference/api/pandas.melt.html), [pd.DataFrame.mode](https://pandas.pydata.org/pandas-docs/stable/reference/api/pandas.DataFrame.mode.html), [pd.DataFrameGroupBy.agg](https://pandas.pydata.org/docs/dev/reference/api/pandas.core.groupby.DataFrameGroupBy.agg.html)"
      ]
    },
    {
      "cell_type": "code",
      "execution_count": 8,
      "metadata": {
        "id": "PL1y1CPaX2Np",
        "outputId": "4536c1e2-42c2-486c-8b34-c6ea401d7b1f",
        "colab": {
          "base_uri": "https://localhost:8080/"
        }
      },
      "outputs": [
        {
          "output_type": "stream",
          "name": "stdout",
          "text": [
            "3100285.4716\n"
          ]
        }
      ],
      "source": [
        "# (づ๑•ᴗ•๑)づ♡\n",
        "\n",
        "melted_df = pd.melt(df, id_vars=['Platform'], value_vars=['Follower Count', 'Posts Per Week', 'Ad Spend (USD)', 'Conversion Rate', 'Engagement Rate', 'Campaign Reach'])\n",
        "melted_df.columns = [\"Platform\", \"Metric\", \"Value\"]\n",
        "modes = melted_df.groupby([\"Platform\", \"Metric\"])[\"Value\"].agg(lambda x: x.mode().max())\n",
        "# modes\n",
        "\n",
        "print(modes.sum())\n"
      ]
    },
    {
      "cell_type": "markdown",
      "metadata": {
        "id": "w62evu7NX2Np"
      },
      "source": [
        "#### Задание 4\n",
        "\n",
        "А теперь хочется посмотреть на самые популярные аккаунты на разных платформах. Для каждой платформы отсортируйте датафрейм по убыванию количества подписчиков (`Follower Count`) - да, без циклов, сразу для всех платформ сделать сортировку, а затем оставьте только первые три записи для каждой платформы - это и будут три самых популярных аккаунта для каждой платформы. В качестве ответа выведите саму таблицу и минимальное значение `Follower Count` в ней.\n",
        "\n",
        "**Hint**: к *groupby* можно применять функции - это эквивалентно применению функции к каждой \"группе\" внутри groupby-объекта. Читайте [про применение apply к датафрейму после groupby](https://pandas.pydata.org/pandas-docs/stable/user_guide/groupby.html#flexible-apply)."
      ]
    },
    {
      "cell_type": "code",
      "execution_count": 21,
      "metadata": {
        "id": "T9KLtelCX2Np",
        "outputId": "2d892ea7-79fd-4a4c-998d-ee31d345bfb9",
        "colab": {
          "base_uri": "https://localhost:8080/"
        }
      },
      "outputs": [
        {
          "output_type": "stream",
          "name": "stdout",
          "text": [
            "                Account ID         Username   Platform  Follower Count  \\\n",
            "Platform                                                                 \n",
            "Facebook  2403        2404           eric65   Facebook          999982   \n",
            "          7350        7351     patricknoble   Facebook          997915   \n",
            "          1689        1690      chavezjason   Facebook          997512   \n",
            "Instagram 8685        8686  alexandersamuel  Instagram          999726   \n",
            "          3965        3966         lrodgers  Instagram          999351   \n",
            "          2189        2190           jbrown  Instagram          997844   \n",
            "LinkedIn  3039        3040          toneill   LinkedIn          999055   \n",
            "          6359        6360    andrewgregory   LinkedIn          998968   \n",
            "          2159        2160     ashleycooper   LinkedIn          998925   \n",
            "TikTok    5838        5839     edwardthomas     TikTok          999739   \n",
            "          4234        4235    andradewesley     TikTok          999234   \n",
            "          2575        2576     williamwyatt     TikTok          998623   \n",
            "Twitter   4920        4921      teresaellis    Twitter          999919   \n",
            "          9684        9685           sriley    Twitter          999442   \n",
            "          7576        7577       peggymunoz    Twitter          998216   \n",
            "\n",
            "                Posts Per Week  Engagement Rate  Ad Spend (USD)  \\\n",
            "Platform                                                          \n",
            "Facebook  2403               6           0.0642          884.06   \n",
            "          7350               3           0.0834          429.01   \n",
            "          1689               7           0.0834          993.20   \n",
            "Instagram 8685               3           0.0834          687.61   \n",
            "          3965               1           0.0834          565.07   \n",
            "          2189               5           0.0642          505.61   \n",
            "LinkedIn  3039               4           0.0642          799.49   \n",
            "          6359               7           0.1020          797.64   \n",
            "          2159               6           0.0856          474.46   \n",
            "TikTok    5838               7           0.0642          630.77   \n",
            "          4234               5           0.0834          872.77   \n",
            "          2575               6           0.0856          477.98   \n",
            "Twitter   4920               6           0.0834          411.63   \n",
            "          9684               3           0.0834          206.84   \n",
            "          7576               6           0.0642          456.61   \n",
            "\n",
            "                Conversion Rate  Campaign Reach  Platform_Code Follower_Bin  \n",
            "Platform                                                                     \n",
            "Facebook  2403           0.0281           17312              2    Very High  \n",
            "          7350           0.0182           25985              2    Very High  \n",
            "          1689           0.0397           45717              2    Very High  \n",
            "Instagram 8685           0.0205           11050              3    Very High  \n",
            "          3965           0.0335           12391              3    Very High  \n",
            "          2189           0.0202           14717              3    Very High  \n",
            "LinkedIn  3039           0.0174           21862              1    Very High  \n",
            "          6359           0.0351           15552              1    Very High  \n",
            "          2159           0.0156           45956              1    Very High  \n",
            "TikTok    5838           0.0325           35523              0    Very High  \n",
            "          4234           0.0481           17188              0    Very High  \n",
            "          2575           0.0250           43299              0    Very High  \n",
            "Twitter   4920           0.0460            3975              4    Very High  \n",
            "          9684           0.0225           12783              4    Very High  \n",
            "          7576           0.0456           22037              4    Very High  \n",
            "997512\n"
          ]
        },
        {
          "output_type": "stream",
          "name": "stderr",
          "text": [
            "<ipython-input-21-352ee486bf58>:3: DeprecationWarning: DataFrameGroupBy.apply operated on the grouping columns. This behavior is deprecated, and in a future version of pandas the grouping columns will be excluded from the operation. Either pass `include_groups=False` to exclude the groupings or explicitly select the grouping columns after groupby to silence this warning.\n",
            "  most_popular = df.groupby(\"Platform\").apply(lambda x: x.sort_values(by=\"Follower Count\")[::-1][:3])\n"
          ]
        }
      ],
      "source": [
        "# ε(´סּ︵סּ`)з\n",
        "\n",
        "most_popular = df.groupby(\"Platform\").apply(lambda x: x.sort_values(by=\"Follower Count\")[::-1][:3])\n",
        "print(most_popular)\n",
        "print(most_popular[\"Follower Count\"].min())"
      ]
    },
    {
      "cell_type": "markdown",
      "metadata": {
        "id": "C_ByiDQFX2Np"
      },
      "source": [
        "#### Задание 5\n",
        "\n",
        "Хочется посчитать какую-то метрику. Мы хотим посмотреть, на отношение разности суммы подписчиков аккаунтов с высокой и низкой конверсией к суммарному охвату рекламы на каждой платформе. То есть, мы делим аккаунты на две группы: высокая и низка конверсия. Затем мы смотрим на то, на сколько сильно влияние аккаунтов с высокой конверсией по сравнению с аккаунтами с низкой конверсией.\n",
        "\n",
        "Давайте определим *Conversion Influence* следущим образом:\n",
        "\n",
        "$$Conversion Influence = \\frac{Total Follower\\ Count (High) - Total Follower\\ Count (Low)}{Total Campaign Reach (High)+Total Campaign Reach (Low)}$$\n",
        "\n",
        "Считать эту метрику мы будет для каждой `Platform`. В этой формуле High - это значения всех сэмплов датасета, в которых `Conversion Rate` больше медианы, а `Low` - не более медианы. `Total Feature` - это суммарное количество значений `Feature` либо по `High` сэмплам, либо по `Low`.\n",
        "\n",
        "Чтобы постоянно не пересчитывать, где High. где Low, сделайте новую колонку в датасете `Conversion_Category`. Положите в нее для каждой строки либо High, либо Low.\n",
        "\n",
        "Выведите платформу с самым большим `Conversion Influence`.\n",
        "\n",
        "**Hint**: данное задание не про *groupby*, а скорее про [pd.pivot_table](https://pandas.pydata.org/pandas-docs/stable/reference/api/pandas.pivot_table.html). Сделайте сводную таблицу, по которой уже можно посчитать суммы, а затем подставить их в формулы."
      ]
    },
    {
      "cell_type": "code",
      "execution_count": 43,
      "metadata": {
        "id": "r-F8gye4X2Np",
        "outputId": "0a349f48-96f0-475c-d251-a5fdb447b4b4",
        "colab": {
          "base_uri": "https://localhost:8080/",
          "height": 198
        }
      },
      "outputs": [
        {
          "output_type": "stream",
          "name": "stderr",
          "text": [
            "<ipython-input-43-7cfe51d79707>:4: FutureWarning: The default value of observed=False is deprecated and will change to observed=True in a future version of pandas. Specify observed=False to silence this warning and retain the current behavior\n",
            "  pivot_table = pd.pivot_table(df, values=[\"Follower Count\", \"Campaign Reach\"], index=\"Platform\", columns=\"Conversion_Category\", aggfunc=\"sum\")\n"
          ]
        },
        {
          "output_type": "execute_result",
          "data": {
            "text/plain": [
              "                    Campaign Reach           Follower Count             \\\n",
              "Conversion_Category            Low      High            Low       High   \n",
              "Platform                                                                 \n",
              "Twitter                   24566705  26376400      481382949  536955379   \n",
              "\n",
              "                    Conversion_Influence  \n",
              "Conversion_Category                       \n",
              "Platform                                  \n",
              "Twitter                         1.090872  "
            ],
            "text/html": [
              "\n",
              "  <div id=\"df-0f5d7332-e570-4ca4-a05d-68f6db6d3541\" class=\"colab-df-container\">\n",
              "    <div>\n",
              "<style scoped>\n",
              "    .dataframe tbody tr th:only-of-type {\n",
              "        vertical-align: middle;\n",
              "    }\n",
              "\n",
              "    .dataframe tbody tr th {\n",
              "        vertical-align: top;\n",
              "    }\n",
              "\n",
              "    .dataframe thead tr th {\n",
              "        text-align: left;\n",
              "    }\n",
              "\n",
              "    .dataframe thead tr:last-of-type th {\n",
              "        text-align: right;\n",
              "    }\n",
              "</style>\n",
              "<table border=\"1\" class=\"dataframe\">\n",
              "  <thead>\n",
              "    <tr>\n",
              "      <th></th>\n",
              "      <th colspan=\"2\" halign=\"left\">Campaign Reach</th>\n",
              "      <th colspan=\"2\" halign=\"left\">Follower Count</th>\n",
              "      <th>Conversion_Influence</th>\n",
              "    </tr>\n",
              "    <tr>\n",
              "      <th>Conversion_Category</th>\n",
              "      <th>Low</th>\n",
              "      <th>High</th>\n",
              "      <th>Low</th>\n",
              "      <th>High</th>\n",
              "      <th></th>\n",
              "    </tr>\n",
              "    <tr>\n",
              "      <th>Platform</th>\n",
              "      <th></th>\n",
              "      <th></th>\n",
              "      <th></th>\n",
              "      <th></th>\n",
              "      <th></th>\n",
              "    </tr>\n",
              "  </thead>\n",
              "  <tbody>\n",
              "    <tr>\n",
              "      <th>Twitter</th>\n",
              "      <td>24566705</td>\n",
              "      <td>26376400</td>\n",
              "      <td>481382949</td>\n",
              "      <td>536955379</td>\n",
              "      <td>1.090872</td>\n",
              "    </tr>\n",
              "  </tbody>\n",
              "</table>\n",
              "</div>\n",
              "    <div class=\"colab-df-buttons\">\n",
              "\n",
              "  <div class=\"colab-df-container\">\n",
              "    <button class=\"colab-df-convert\" onclick=\"convertToInteractive('df-0f5d7332-e570-4ca4-a05d-68f6db6d3541')\"\n",
              "            title=\"Convert this dataframe to an interactive table.\"\n",
              "            style=\"display:none;\">\n",
              "\n",
              "  <svg xmlns=\"http://www.w3.org/2000/svg\" height=\"24px\" viewBox=\"0 -960 960 960\">\n",
              "    <path d=\"M120-120v-720h720v720H120Zm60-500h600v-160H180v160Zm220 220h160v-160H400v160Zm0 220h160v-160H400v160ZM180-400h160v-160H180v160Zm440 0h160v-160H620v160ZM180-180h160v-160H180v160Zm440 0h160v-160H620v160Z\"/>\n",
              "  </svg>\n",
              "    </button>\n",
              "\n",
              "  <style>\n",
              "    .colab-df-container {\n",
              "      display:flex;\n",
              "      gap: 12px;\n",
              "    }\n",
              "\n",
              "    .colab-df-convert {\n",
              "      background-color: #E8F0FE;\n",
              "      border: none;\n",
              "      border-radius: 50%;\n",
              "      cursor: pointer;\n",
              "      display: none;\n",
              "      fill: #1967D2;\n",
              "      height: 32px;\n",
              "      padding: 0 0 0 0;\n",
              "      width: 32px;\n",
              "    }\n",
              "\n",
              "    .colab-df-convert:hover {\n",
              "      background-color: #E2EBFA;\n",
              "      box-shadow: 0px 1px 2px rgba(60, 64, 67, 0.3), 0px 1px 3px 1px rgba(60, 64, 67, 0.15);\n",
              "      fill: #174EA6;\n",
              "    }\n",
              "\n",
              "    .colab-df-buttons div {\n",
              "      margin-bottom: 4px;\n",
              "    }\n",
              "\n",
              "    [theme=dark] .colab-df-convert {\n",
              "      background-color: #3B4455;\n",
              "      fill: #D2E3FC;\n",
              "    }\n",
              "\n",
              "    [theme=dark] .colab-df-convert:hover {\n",
              "      background-color: #434B5C;\n",
              "      box-shadow: 0px 1px 3px 1px rgba(0, 0, 0, 0.15);\n",
              "      filter: drop-shadow(0px 1px 2px rgba(0, 0, 0, 0.3));\n",
              "      fill: #FFFFFF;\n",
              "    }\n",
              "  </style>\n",
              "\n",
              "    <script>\n",
              "      const buttonEl =\n",
              "        document.querySelector('#df-0f5d7332-e570-4ca4-a05d-68f6db6d3541 button.colab-df-convert');\n",
              "      buttonEl.style.display =\n",
              "        google.colab.kernel.accessAllowed ? 'block' : 'none';\n",
              "\n",
              "      async function convertToInteractive(key) {\n",
              "        const element = document.querySelector('#df-0f5d7332-e570-4ca4-a05d-68f6db6d3541');\n",
              "        const dataTable =\n",
              "          await google.colab.kernel.invokeFunction('convertToInteractive',\n",
              "                                                    [key], {});\n",
              "        if (!dataTable) return;\n",
              "\n",
              "        const docLinkHtml = 'Like what you see? Visit the ' +\n",
              "          '<a target=\"_blank\" href=https://colab.research.google.com/notebooks/data_table.ipynb>data table notebook</a>'\n",
              "          + ' to learn more about interactive tables.';\n",
              "        element.innerHTML = '';\n",
              "        dataTable['output_type'] = 'display_data';\n",
              "        await google.colab.output.renderOutput(dataTable, element);\n",
              "        const docLink = document.createElement('div');\n",
              "        docLink.innerHTML = docLinkHtml;\n",
              "        element.appendChild(docLink);\n",
              "      }\n",
              "    </script>\n",
              "  </div>\n",
              "\n",
              "    </div>\n",
              "  </div>\n"
            ],
            "application/vnd.google.colaboratory.intrinsic+json": {
              "type": "dataframe",
              "summary": "{\n  \"name\": \"pivot_table[pivot_table[\\\"Conversion_Influence\\\"] == max_inf]\",\n  \"rows\": 1,\n  \"fields\": [\n    {\n      \"column\": [\n        \"Platform\",\n        \"\"\n      ],\n      \"properties\": {\n        \"dtype\": \"string\",\n        \"num_unique_values\": 1,\n        \"samples\": [\n          \"Twitter\"\n        ],\n        \"semantic_type\": \"\",\n        \"description\": \"\"\n      }\n    },\n    {\n      \"column\": [\n        \"Campaign Reach\",\n        \"Low\"\n      ],\n      \"properties\": {\n        \"dtype\": \"number\",\n        \"std\": null,\n        \"min\": 24566705,\n        \"max\": 24566705,\n        \"num_unique_values\": 1,\n        \"samples\": [\n          24566705\n        ],\n        \"semantic_type\": \"\",\n        \"description\": \"\"\n      }\n    },\n    {\n      \"column\": [\n        \"Campaign Reach\",\n        \"High\"\n      ],\n      \"properties\": {\n        \"dtype\": \"number\",\n        \"std\": null,\n        \"min\": 26376400,\n        \"max\": 26376400,\n        \"num_unique_values\": 1,\n        \"samples\": [\n          26376400\n        ],\n        \"semantic_type\": \"\",\n        \"description\": \"\"\n      }\n    },\n    {\n      \"column\": [\n        \"Follower Count\",\n        \"Low\"\n      ],\n      \"properties\": {\n        \"dtype\": \"number\",\n        \"std\": null,\n        \"min\": 481382949,\n        \"max\": 481382949,\n        \"num_unique_values\": 1,\n        \"samples\": [\n          481382949\n        ],\n        \"semantic_type\": \"\",\n        \"description\": \"\"\n      }\n    },\n    {\n      \"column\": [\n        \"Follower Count\",\n        \"High\"\n      ],\n      \"properties\": {\n        \"dtype\": \"number\",\n        \"std\": null,\n        \"min\": 536955379,\n        \"max\": 536955379,\n        \"num_unique_values\": 1,\n        \"samples\": [\n          536955379\n        ],\n        \"semantic_type\": \"\",\n        \"description\": \"\"\n      }\n    },\n    {\n      \"column\": [\n        \"Conversion_Influence\",\n        \"\"\n      ],\n      \"properties\": {\n        \"dtype\": \"number\",\n        \"std\": null,\n        \"min\": 1.0908724546727178,\n        \"max\": 1.0908724546727178,\n        \"num_unique_values\": 1,\n        \"samples\": [\n          1.0908724546727178\n        ],\n        \"semantic_type\": \"\",\n        \"description\": \"\"\n      }\n    }\n  ]\n}"
            }
          },
          "metadata": {},
          "execution_count": 43
        }
      ],
      "source": [
        "# (︶ω︶)\n",
        "\n",
        "df[\"Conversion_Category\"] = pd.qcut(df[\"Conversion Rate\"], 2, [\"Low\", \"High\"])\n",
        "pivot_table = pd.pivot_table(df, values=[\"Follower Count\", \"Campaign Reach\"], index=\"Platform\", columns=\"Conversion_Category\", aggfunc=\"sum\")\n",
        "pivot_table[\"Conversion_Influence\"] = (pivot_table[\"Follower Count\"][\"High\"] - pivot_table[\"Follower Count\"][\"Low\"]) / (pivot_table[\"Campaign Reach\"][\"High\"] + pivot_table[\"Campaign Reach\"][\"Low\"])\n",
        "\n",
        "max_inf = pivot_table[\"Conversion_Influence\"].max()\n",
        "pivot_table[pivot_table[\"Conversion_Influence\"] == max_inf]\n",
        "\n"
      ]
    },
    {
      "cell_type": "markdown",
      "metadata": {
        "id": "z_sJaa9yX2Np"
      },
      "source": [
        "#### Задание 6\n",
        "\n",
        "Мы знаем, что вам понравилось считать метрики по формуле. Давайте закрепим этот успех. Теперь для каждой платформы посчитаем, на сколько эффективна реклама в разрезе трех последовательных записей в датасете.\n",
        "\n",
        "Для каждой платформы отсортируйте записи в порядке убывания `Posts Per Week`. Будто бы аккаунты, которые постят чаще, используют более \"активные\" стратегии по рекламе. Теперь посчитайте *скользущие суммы с окном 3* по `Campaign Reach` и `Ad Spend (USD)`. Скользящая сумма с окном N - это вы идете по массиву, берете все последовательные тройки записей и суммируете их. Для первых двух записей троек не найдется. Для них скользящее среднее - NaN, что нам не помешает.\n",
        "\n",
        "Теперь для каждого окна посчитайте\n",
        "\n",
        "$$Rolling Efficiency Ratio = \\frac{Rolling Sum of Campaign Reach}{Rolling Sum of Ad Spend}$$\n",
        "\n",
        "По сути, для каждого окна вы посчитаете сколько пользователе привлеклось за один доллар, потреченный на рекламу, в данном окне. Понятно, что значений будет столько, сколько окон. Нам интересно максимально значение такой эффективности для каждой платформы.\n",
        "\n",
        "В качестве ответа выведите название платформы с наибольшей максимальной эффективность и наименьшей (два названия, не одно, не три, ровно два).\n",
        "\n",
        "**Hint**: окна можно делать через [pd.DataFrame.rolling](https://pandas.pydata.org/pandas-docs/stable/reference/api/pandas.DataFrame.rolling.html)."
      ]
    },
    {
      "cell_type": "code",
      "execution_count": null,
      "metadata": {
        "id": "vZTs54teX2Np"
      },
      "outputs": [],
      "source": [
        "# (◔/‿\\◔)"
      ]
    },
    {
      "cell_type": "markdown",
      "metadata": {
        "id": "cf9ViMfsX2Np"
      },
      "source": [
        "#### Задание 7\n",
        "\n",
        "Это еще не все прекрасные функции pandas, которые мы хотим вам показать. Теперь вы посчитаете, сколько аккаунтов на каждой платформе одновременно лучшие по `Engagement Rate` и `Conversion Rate`.\n",
        "\n",
        "Сделайте два отдельных суб-сета. В одном оставьте для каждой платфмормы один топовый аккаунт по `Engagement Rate`, в другом - по `Conversion Rate`. Соедините эти два подмножества по столбцу `Platform` так, что в одно строке есть описание сразу двух аккаунтов-лидеров. Теперь посмотрите равны ли имена аккаунтов в одной строке. Выведите количество строк, в которых названия аккаунтов совпадают."
      ]
    },
    {
      "cell_type": "code",
      "execution_count": 48,
      "metadata": {
        "id": "Z1aqTSDiX2Np",
        "outputId": "02dfb2e3-e61d-46b0-e183-966ccadf78a8",
        "colab": {
          "base_uri": "https://localhost:8080/",
          "height": 441
        }
      },
      "outputs": [
        {
          "output_type": "execute_result",
          "data": {
            "text/plain": [
              "      Account ID       Username   Platform  Follower Count  Posts Per Week  \\\n",
              "0              1     harrislisa     TikTok           54217               3   \n",
              "1              2         rhicks   LinkedIn          987518               5   \n",
              "2              3        qthomas   Facebook          218870               3   \n",
              "3              4     carlosholt  Instagram          207432               6   \n",
              "4              5  parsonsashley   Facebook          350204               2   \n",
              "...          ...            ...        ...             ...             ...   \n",
              "9995        9996          sbyrd     TikTok          388169               6   \n",
              "9996        9997  jacksongerald     TikTok          150775               1   \n",
              "9997        9998          eryan    Twitter          427451               5   \n",
              "9998        9999      barbara57   LinkedIn          132884               4   \n",
              "9999       10000        nbutler   Facebook          725253               2   \n",
              "\n",
              "      Engagement Rate  Ad Spend (USD)  Conversion Rate  Campaign Reach  \\\n",
              "0              0.0986          538.10           0.0490            1308   \n",
              "1              0.0834          479.24           0.0174           13302   \n",
              "2              0.1020          150.36           0.0318           11043   \n",
              "3              0.0834          932.62           0.0400           12074   \n",
              "4              0.0642          504.44           0.0463           14083   \n",
              "...               ...             ...              ...             ...   \n",
              "9995           0.0642          362.91           0.0108           45091   \n",
              "9996           0.0642          177.92           0.0262           33084   \n",
              "9997           0.0834          432.65           0.0402           12484   \n",
              "9998           0.0986          892.99           0.0329           35766   \n",
              "9999           0.0642          878.87           0.0420           13012   \n",
              "\n",
              "      Platform_Code Follower_Bin Conversion_Category  \n",
              "0                 0          Low                High  \n",
              "1                 1    Very High                 Low  \n",
              "2                 2          Low                High  \n",
              "3                 3          Low                High  \n",
              "4                 2       Medium                High  \n",
              "...             ...          ...                 ...  \n",
              "9995              0       Medium                 Low  \n",
              "9996              0          Low                 Low  \n",
              "9997              4       Medium                High  \n",
              "9998              1          Low                High  \n",
              "9999              2         High                High  \n",
              "\n",
              "[10000 rows x 12 columns]"
            ],
            "text/html": [
              "\n",
              "  <div id=\"df-83511703-63d7-4bb5-a7f6-d072bf0e62d5\" class=\"colab-df-container\">\n",
              "    <div>\n",
              "<style scoped>\n",
              "    .dataframe tbody tr th:only-of-type {\n",
              "        vertical-align: middle;\n",
              "    }\n",
              "\n",
              "    .dataframe tbody tr th {\n",
              "        vertical-align: top;\n",
              "    }\n",
              "\n",
              "    .dataframe thead th {\n",
              "        text-align: right;\n",
              "    }\n",
              "</style>\n",
              "<table border=\"1\" class=\"dataframe\">\n",
              "  <thead>\n",
              "    <tr style=\"text-align: right;\">\n",
              "      <th></th>\n",
              "      <th>Account ID</th>\n",
              "      <th>Username</th>\n",
              "      <th>Platform</th>\n",
              "      <th>Follower Count</th>\n",
              "      <th>Posts Per Week</th>\n",
              "      <th>Engagement Rate</th>\n",
              "      <th>Ad Spend (USD)</th>\n",
              "      <th>Conversion Rate</th>\n",
              "      <th>Campaign Reach</th>\n",
              "      <th>Platform_Code</th>\n",
              "      <th>Follower_Bin</th>\n",
              "      <th>Conversion_Category</th>\n",
              "    </tr>\n",
              "  </thead>\n",
              "  <tbody>\n",
              "    <tr>\n",
              "      <th>0</th>\n",
              "      <td>1</td>\n",
              "      <td>harrislisa</td>\n",
              "      <td>TikTok</td>\n",
              "      <td>54217</td>\n",
              "      <td>3</td>\n",
              "      <td>0.0986</td>\n",
              "      <td>538.10</td>\n",
              "      <td>0.0490</td>\n",
              "      <td>1308</td>\n",
              "      <td>0</td>\n",
              "      <td>Low</td>\n",
              "      <td>High</td>\n",
              "    </tr>\n",
              "    <tr>\n",
              "      <th>1</th>\n",
              "      <td>2</td>\n",
              "      <td>rhicks</td>\n",
              "      <td>LinkedIn</td>\n",
              "      <td>987518</td>\n",
              "      <td>5</td>\n",
              "      <td>0.0834</td>\n",
              "      <td>479.24</td>\n",
              "      <td>0.0174</td>\n",
              "      <td>13302</td>\n",
              "      <td>1</td>\n",
              "      <td>Very High</td>\n",
              "      <td>Low</td>\n",
              "    </tr>\n",
              "    <tr>\n",
              "      <th>2</th>\n",
              "      <td>3</td>\n",
              "      <td>qthomas</td>\n",
              "      <td>Facebook</td>\n",
              "      <td>218870</td>\n",
              "      <td>3</td>\n",
              "      <td>0.1020</td>\n",
              "      <td>150.36</td>\n",
              "      <td>0.0318</td>\n",
              "      <td>11043</td>\n",
              "      <td>2</td>\n",
              "      <td>Low</td>\n",
              "      <td>High</td>\n",
              "    </tr>\n",
              "    <tr>\n",
              "      <th>3</th>\n",
              "      <td>4</td>\n",
              "      <td>carlosholt</td>\n",
              "      <td>Instagram</td>\n",
              "      <td>207432</td>\n",
              "      <td>6</td>\n",
              "      <td>0.0834</td>\n",
              "      <td>932.62</td>\n",
              "      <td>0.0400</td>\n",
              "      <td>12074</td>\n",
              "      <td>3</td>\n",
              "      <td>Low</td>\n",
              "      <td>High</td>\n",
              "    </tr>\n",
              "    <tr>\n",
              "      <th>4</th>\n",
              "      <td>5</td>\n",
              "      <td>parsonsashley</td>\n",
              "      <td>Facebook</td>\n",
              "      <td>350204</td>\n",
              "      <td>2</td>\n",
              "      <td>0.0642</td>\n",
              "      <td>504.44</td>\n",
              "      <td>0.0463</td>\n",
              "      <td>14083</td>\n",
              "      <td>2</td>\n",
              "      <td>Medium</td>\n",
              "      <td>High</td>\n",
              "    </tr>\n",
              "    <tr>\n",
              "      <th>...</th>\n",
              "      <td>...</td>\n",
              "      <td>...</td>\n",
              "      <td>...</td>\n",
              "      <td>...</td>\n",
              "      <td>...</td>\n",
              "      <td>...</td>\n",
              "      <td>...</td>\n",
              "      <td>...</td>\n",
              "      <td>...</td>\n",
              "      <td>...</td>\n",
              "      <td>...</td>\n",
              "      <td>...</td>\n",
              "    </tr>\n",
              "    <tr>\n",
              "      <th>9995</th>\n",
              "      <td>9996</td>\n",
              "      <td>sbyrd</td>\n",
              "      <td>TikTok</td>\n",
              "      <td>388169</td>\n",
              "      <td>6</td>\n",
              "      <td>0.0642</td>\n",
              "      <td>362.91</td>\n",
              "      <td>0.0108</td>\n",
              "      <td>45091</td>\n",
              "      <td>0</td>\n",
              "      <td>Medium</td>\n",
              "      <td>Low</td>\n",
              "    </tr>\n",
              "    <tr>\n",
              "      <th>9996</th>\n",
              "      <td>9997</td>\n",
              "      <td>jacksongerald</td>\n",
              "      <td>TikTok</td>\n",
              "      <td>150775</td>\n",
              "      <td>1</td>\n",
              "      <td>0.0642</td>\n",
              "      <td>177.92</td>\n",
              "      <td>0.0262</td>\n",
              "      <td>33084</td>\n",
              "      <td>0</td>\n",
              "      <td>Low</td>\n",
              "      <td>Low</td>\n",
              "    </tr>\n",
              "    <tr>\n",
              "      <th>9997</th>\n",
              "      <td>9998</td>\n",
              "      <td>eryan</td>\n",
              "      <td>Twitter</td>\n",
              "      <td>427451</td>\n",
              "      <td>5</td>\n",
              "      <td>0.0834</td>\n",
              "      <td>432.65</td>\n",
              "      <td>0.0402</td>\n",
              "      <td>12484</td>\n",
              "      <td>4</td>\n",
              "      <td>Medium</td>\n",
              "      <td>High</td>\n",
              "    </tr>\n",
              "    <tr>\n",
              "      <th>9998</th>\n",
              "      <td>9999</td>\n",
              "      <td>barbara57</td>\n",
              "      <td>LinkedIn</td>\n",
              "      <td>132884</td>\n",
              "      <td>4</td>\n",
              "      <td>0.0986</td>\n",
              "      <td>892.99</td>\n",
              "      <td>0.0329</td>\n",
              "      <td>35766</td>\n",
              "      <td>1</td>\n",
              "      <td>Low</td>\n",
              "      <td>High</td>\n",
              "    </tr>\n",
              "    <tr>\n",
              "      <th>9999</th>\n",
              "      <td>10000</td>\n",
              "      <td>nbutler</td>\n",
              "      <td>Facebook</td>\n",
              "      <td>725253</td>\n",
              "      <td>2</td>\n",
              "      <td>0.0642</td>\n",
              "      <td>878.87</td>\n",
              "      <td>0.0420</td>\n",
              "      <td>13012</td>\n",
              "      <td>2</td>\n",
              "      <td>High</td>\n",
              "      <td>High</td>\n",
              "    </tr>\n",
              "  </tbody>\n",
              "</table>\n",
              "<p>10000 rows × 12 columns</p>\n",
              "</div>\n",
              "    <div class=\"colab-df-buttons\">\n",
              "\n",
              "  <div class=\"colab-df-container\">\n",
              "    <button class=\"colab-df-convert\" onclick=\"convertToInteractive('df-83511703-63d7-4bb5-a7f6-d072bf0e62d5')\"\n",
              "            title=\"Convert this dataframe to an interactive table.\"\n",
              "            style=\"display:none;\">\n",
              "\n",
              "  <svg xmlns=\"http://www.w3.org/2000/svg\" height=\"24px\" viewBox=\"0 -960 960 960\">\n",
              "    <path d=\"M120-120v-720h720v720H120Zm60-500h600v-160H180v160Zm220 220h160v-160H400v160Zm0 220h160v-160H400v160ZM180-400h160v-160H180v160Zm440 0h160v-160H620v160ZM180-180h160v-160H180v160Zm440 0h160v-160H620v160Z\"/>\n",
              "  </svg>\n",
              "    </button>\n",
              "\n",
              "  <style>\n",
              "    .colab-df-container {\n",
              "      display:flex;\n",
              "      gap: 12px;\n",
              "    }\n",
              "\n",
              "    .colab-df-convert {\n",
              "      background-color: #E8F0FE;\n",
              "      border: none;\n",
              "      border-radius: 50%;\n",
              "      cursor: pointer;\n",
              "      display: none;\n",
              "      fill: #1967D2;\n",
              "      height: 32px;\n",
              "      padding: 0 0 0 0;\n",
              "      width: 32px;\n",
              "    }\n",
              "\n",
              "    .colab-df-convert:hover {\n",
              "      background-color: #E2EBFA;\n",
              "      box-shadow: 0px 1px 2px rgba(60, 64, 67, 0.3), 0px 1px 3px 1px rgba(60, 64, 67, 0.15);\n",
              "      fill: #174EA6;\n",
              "    }\n",
              "\n",
              "    .colab-df-buttons div {\n",
              "      margin-bottom: 4px;\n",
              "    }\n",
              "\n",
              "    [theme=dark] .colab-df-convert {\n",
              "      background-color: #3B4455;\n",
              "      fill: #D2E3FC;\n",
              "    }\n",
              "\n",
              "    [theme=dark] .colab-df-convert:hover {\n",
              "      background-color: #434B5C;\n",
              "      box-shadow: 0px 1px 3px 1px rgba(0, 0, 0, 0.15);\n",
              "      filter: drop-shadow(0px 1px 2px rgba(0, 0, 0, 0.3));\n",
              "      fill: #FFFFFF;\n",
              "    }\n",
              "  </style>\n",
              "\n",
              "    <script>\n",
              "      const buttonEl =\n",
              "        document.querySelector('#df-83511703-63d7-4bb5-a7f6-d072bf0e62d5 button.colab-df-convert');\n",
              "      buttonEl.style.display =\n",
              "        google.colab.kernel.accessAllowed ? 'block' : 'none';\n",
              "\n",
              "      async function convertToInteractive(key) {\n",
              "        const element = document.querySelector('#df-83511703-63d7-4bb5-a7f6-d072bf0e62d5');\n",
              "        const dataTable =\n",
              "          await google.colab.kernel.invokeFunction('convertToInteractive',\n",
              "                                                    [key], {});\n",
              "        if (!dataTable) return;\n",
              "\n",
              "        const docLinkHtml = 'Like what you see? Visit the ' +\n",
              "          '<a target=\"_blank\" href=https://colab.research.google.com/notebooks/data_table.ipynb>data table notebook</a>'\n",
              "          + ' to learn more about interactive tables.';\n",
              "        element.innerHTML = '';\n",
              "        dataTable['output_type'] = 'display_data';\n",
              "        await google.colab.output.renderOutput(dataTable, element);\n",
              "        const docLink = document.createElement('div');\n",
              "        docLink.innerHTML = docLinkHtml;\n",
              "        element.appendChild(docLink);\n",
              "      }\n",
              "    </script>\n",
              "  </div>\n",
              "\n",
              "\n",
              "<div id=\"df-1495d58a-28d9-44a7-bf6d-3e4ee984c42a\">\n",
              "  <button class=\"colab-df-quickchart\" onclick=\"quickchart('df-1495d58a-28d9-44a7-bf6d-3e4ee984c42a')\"\n",
              "            title=\"Suggest charts\"\n",
              "            style=\"display:none;\">\n",
              "\n",
              "<svg xmlns=\"http://www.w3.org/2000/svg\" height=\"24px\"viewBox=\"0 0 24 24\"\n",
              "     width=\"24px\">\n",
              "    <g>\n",
              "        <path d=\"M19 3H5c-1.1 0-2 .9-2 2v14c0 1.1.9 2 2 2h14c1.1 0 2-.9 2-2V5c0-1.1-.9-2-2-2zM9 17H7v-7h2v7zm4 0h-2V7h2v10zm4 0h-2v-4h2v4z\"/>\n",
              "    </g>\n",
              "</svg>\n",
              "  </button>\n",
              "\n",
              "<style>\n",
              "  .colab-df-quickchart {\n",
              "      --bg-color: #E8F0FE;\n",
              "      --fill-color: #1967D2;\n",
              "      --hover-bg-color: #E2EBFA;\n",
              "      --hover-fill-color: #174EA6;\n",
              "      --disabled-fill-color: #AAA;\n",
              "      --disabled-bg-color: #DDD;\n",
              "  }\n",
              "\n",
              "  [theme=dark] .colab-df-quickchart {\n",
              "      --bg-color: #3B4455;\n",
              "      --fill-color: #D2E3FC;\n",
              "      --hover-bg-color: #434B5C;\n",
              "      --hover-fill-color: #FFFFFF;\n",
              "      --disabled-bg-color: #3B4455;\n",
              "      --disabled-fill-color: #666;\n",
              "  }\n",
              "\n",
              "  .colab-df-quickchart {\n",
              "    background-color: var(--bg-color);\n",
              "    border: none;\n",
              "    border-radius: 50%;\n",
              "    cursor: pointer;\n",
              "    display: none;\n",
              "    fill: var(--fill-color);\n",
              "    height: 32px;\n",
              "    padding: 0;\n",
              "    width: 32px;\n",
              "  }\n",
              "\n",
              "  .colab-df-quickchart:hover {\n",
              "    background-color: var(--hover-bg-color);\n",
              "    box-shadow: 0 1px 2px rgba(60, 64, 67, 0.3), 0 1px 3px 1px rgba(60, 64, 67, 0.15);\n",
              "    fill: var(--button-hover-fill-color);\n",
              "  }\n",
              "\n",
              "  .colab-df-quickchart-complete:disabled,\n",
              "  .colab-df-quickchart-complete:disabled:hover {\n",
              "    background-color: var(--disabled-bg-color);\n",
              "    fill: var(--disabled-fill-color);\n",
              "    box-shadow: none;\n",
              "  }\n",
              "\n",
              "  .colab-df-spinner {\n",
              "    border: 2px solid var(--fill-color);\n",
              "    border-color: transparent;\n",
              "    border-bottom-color: var(--fill-color);\n",
              "    animation:\n",
              "      spin 1s steps(1) infinite;\n",
              "  }\n",
              "\n",
              "  @keyframes spin {\n",
              "    0% {\n",
              "      border-color: transparent;\n",
              "      border-bottom-color: var(--fill-color);\n",
              "      border-left-color: var(--fill-color);\n",
              "    }\n",
              "    20% {\n",
              "      border-color: transparent;\n",
              "      border-left-color: var(--fill-color);\n",
              "      border-top-color: var(--fill-color);\n",
              "    }\n",
              "    30% {\n",
              "      border-color: transparent;\n",
              "      border-left-color: var(--fill-color);\n",
              "      border-top-color: var(--fill-color);\n",
              "      border-right-color: var(--fill-color);\n",
              "    }\n",
              "    40% {\n",
              "      border-color: transparent;\n",
              "      border-right-color: var(--fill-color);\n",
              "      border-top-color: var(--fill-color);\n",
              "    }\n",
              "    60% {\n",
              "      border-color: transparent;\n",
              "      border-right-color: var(--fill-color);\n",
              "    }\n",
              "    80% {\n",
              "      border-color: transparent;\n",
              "      border-right-color: var(--fill-color);\n",
              "      border-bottom-color: var(--fill-color);\n",
              "    }\n",
              "    90% {\n",
              "      border-color: transparent;\n",
              "      border-bottom-color: var(--fill-color);\n",
              "    }\n",
              "  }\n",
              "</style>\n",
              "\n",
              "  <script>\n",
              "    async function quickchart(key) {\n",
              "      const quickchartButtonEl =\n",
              "        document.querySelector('#' + key + ' button');\n",
              "      quickchartButtonEl.disabled = true;  // To prevent multiple clicks.\n",
              "      quickchartButtonEl.classList.add('colab-df-spinner');\n",
              "      try {\n",
              "        const charts = await google.colab.kernel.invokeFunction(\n",
              "            'suggestCharts', [key], {});\n",
              "      } catch (error) {\n",
              "        console.error('Error during call to suggestCharts:', error);\n",
              "      }\n",
              "      quickchartButtonEl.classList.remove('colab-df-spinner');\n",
              "      quickchartButtonEl.classList.add('colab-df-quickchart-complete');\n",
              "    }\n",
              "    (() => {\n",
              "      let quickchartButtonEl =\n",
              "        document.querySelector('#df-1495d58a-28d9-44a7-bf6d-3e4ee984c42a button');\n",
              "      quickchartButtonEl.style.display =\n",
              "        google.colab.kernel.accessAllowed ? 'block' : 'none';\n",
              "    })();\n",
              "  </script>\n",
              "</div>\n",
              "    </div>\n",
              "  </div>\n"
            ],
            "application/vnd.google.colaboratory.intrinsic+json": {
              "type": "dataframe",
              "variable_name": "df",
              "summary": "{\n  \"name\": \"df\",\n  \"rows\": 10000,\n  \"fields\": [\n    {\n      \"column\": \"Account ID\",\n      \"properties\": {\n        \"dtype\": \"number\",\n        \"std\": 2886,\n        \"min\": 1,\n        \"max\": 10000,\n        \"num_unique_values\": 10000,\n        \"samples\": [\n          6253,\n          4685,\n          1732\n        ],\n        \"semantic_type\": \"\",\n        \"description\": \"\"\n      }\n    },\n    {\n      \"column\": \"Username\",\n      \"properties\": {\n        \"dtype\": \"category\",\n        \"num_unique_values\": 989,\n        \"samples\": [\n          \"jeffreysalazar\",\n          \"petersonjerry\",\n          \"kayla25\"\n        ],\n        \"semantic_type\": \"\",\n        \"description\": \"\"\n      }\n    },\n    {\n      \"column\": \"Platform\",\n      \"properties\": {\n        \"dtype\": \"category\",\n        \"num_unique_values\": 5,\n        \"samples\": [\n          \"LinkedIn\",\n          \"Twitter\",\n          \"Facebook\"\n        ],\n        \"semantic_type\": \"\",\n        \"description\": \"\"\n      }\n    },\n    {\n      \"column\": \"Follower Count\",\n      \"properties\": {\n        \"dtype\": \"number\",\n        \"std\": 286028,\n        \"min\": 1449,\n        \"max\": 999982,\n        \"num_unique_values\": 9952,\n        \"samples\": [\n          578655,\n          505852,\n          49631\n        ],\n        \"semantic_type\": \"\",\n        \"description\": \"\"\n      }\n    },\n    {\n      \"column\": \"Posts Per Week\",\n      \"properties\": {\n        \"dtype\": \"number\",\n        \"std\": 1,\n        \"min\": 1,\n        \"max\": 7,\n        \"num_unique_values\": 7,\n        \"samples\": [\n          3,\n          5,\n          1\n        ],\n        \"semantic_type\": \"\",\n        \"description\": \"\"\n      }\n    },\n    {\n      \"column\": \"Engagement Rate\",\n      \"properties\": {\n        \"dtype\": \"number\",\n        \"std\": 0.013326634112755751,\n        \"min\": 0.0642,\n        \"max\": 0.102,\n        \"num_unique_values\": 5,\n        \"samples\": [\n          0.0834,\n          0.0856,\n          0.102\n        ],\n        \"semantic_type\": \"\",\n        \"description\": \"\"\n      }\n    },\n    {\n      \"column\": \"Ad Spend (USD)\",\n      \"properties\": {\n        \"dtype\": \"number\",\n        \"std\": 280.08667552626514,\n        \"min\": 51.95,\n        \"max\": 998.2,\n        \"num_unique_values\": 996,\n        \"samples\": [\n          282.65,\n          393.76,\n          62.71\n        ],\n        \"semantic_type\": \"\",\n        \"description\": \"\"\n      }\n    },\n    {\n      \"column\": \"Conversion Rate\",\n      \"properties\": {\n        \"dtype\": \"number\",\n        \"std\": 0.011438181677854735,\n        \"min\": 0.0101,\n        \"max\": 0.05,\n        \"num_unique_values\": 366,\n        \"samples\": [\n          0.0488,\n          0.0357,\n          0.0249\n        ],\n        \"semantic_type\": \"\",\n        \"description\": \"\"\n      }\n    },\n    {\n      \"column\": \"Campaign Reach\",\n      \"properties\": {\n        \"dtype\": \"number\",\n        \"std\": 14119,\n        \"min\": 1005,\n        \"max\": 49998,\n        \"num_unique_values\": 9025,\n        \"samples\": [\n          7428,\n          35729,\n          18250\n        ],\n        \"semantic_type\": \"\",\n        \"description\": \"\"\n      }\n    },\n    {\n      \"column\": \"Platform_Code\",\n      \"properties\": {\n        \"dtype\": \"number\",\n        \"std\": 1,\n        \"min\": 0,\n        \"max\": 4,\n        \"num_unique_values\": 5,\n        \"samples\": [\n          1,\n          4,\n          2\n        ],\n        \"semantic_type\": \"\",\n        \"description\": \"\"\n      }\n    },\n    {\n      \"column\": \"Follower_Bin\",\n      \"properties\": {\n        \"dtype\": \"category\",\n        \"num_unique_values\": 4,\n        \"samples\": [\n          \"Very High\",\n          \"High\",\n          \"Low\"\n        ],\n        \"semantic_type\": \"\",\n        \"description\": \"\"\n      }\n    },\n    {\n      \"column\": \"Conversion_Category\",\n      \"properties\": {\n        \"dtype\": \"category\",\n        \"num_unique_values\": 2,\n        \"samples\": [\n          \"Low\",\n          \"High\"\n        ],\n        \"semantic_type\": \"\",\n        \"description\": \"\"\n      }\n    }\n  ]\n}"
            }
          },
          "metadata": {},
          "execution_count": 48
        }
      ],
      "source": [
        "# ( ͡° ͜ʖ ͡°)\n",
        "\n",
        "df"
      ]
    },
    {
      "cell_type": "markdown",
      "metadata": {
        "id": "vommpKhnX2Np"
      },
      "source": [
        "#### Задание 8\n",
        "\n",
        "Давайте теперь что-то попроще сделаем. Например, посчитаем отношение суммарного количества подписчиков на аккаунтах с высокой конверсией к такой же сумме в аккаунтах с низкой конверсией (очевидно, для каждой платформы). По сути, мы просто хотим получить число, которое характеризует, на сколько сильно аккаунты с высокой конверсией \"доминируют\" над аккаунтами с низкой конверсией в плане количества подписчиков.\n",
        "\n",
        "Высокой конверсией будем считать конверсию больше средней. Остальное - низкая. Посчитайте суммы подписчиков для каждой платформы, поделите одно на другое и выведите разницу между самым большим значением и самым маленьким, а также платформы, которые соотвутствуют этим значениям.\n",
        "\n",
        "Используйте магическую команду `%%time`, чтобы замерить, сколько времени ушло на исполнение вашего pandas-скрипта."
      ]
    },
    {
      "cell_type": "code",
      "execution_count": 63,
      "metadata": {
        "id": "QSxViXiUX2Np",
        "outputId": "5a246226-ce15-4a45-a2e5-0129f45be642",
        "colab": {
          "base_uri": "https://localhost:8080/"
        }
      },
      "outputs": [
        {
          "output_type": "stream",
          "name": "stdout",
          "text": [
            "Platform\n",
            "Facebook     0.956698\n",
            "Instagram    0.864831\n",
            "LinkedIn     0.947635\n",
            "TikTok       0.958043\n",
            "Twitter      1.013694\n",
            "Name: Follower Count, dtype: float64\n",
            "CPU times: user 6.8 ms, sys: 0 ns, total: 6.8 ms\n",
            "Wall time: 6.62 ms\n"
          ]
        }
      ],
      "source": [
        "# (◡‿◡✿)\n",
        "\n",
        "%%time\n",
        "\n",
        "average_conversion = df.groupby('Platform')['Conversion Rate'].transform('mean')\n",
        "\n",
        "high_conversion = df[df['Conversion Rate'] > average_conversion]\n",
        "low_conversion = df[df['Conversion Rate'] <= average_conversion]\n",
        "\n",
        "print(high_conversion.groupby('Platform')['Follower Count'].sum() / low_conversion.groupby('Platform')['Follower Count'].sum())\n"
      ]
    },
    {
      "cell_type": "markdown",
      "metadata": {
        "id": "LcfVywIeX2Np"
      },
      "source": [
        "#### Задание 9\n",
        "\n",
        "А теперь решите задание 8 чисто питоном. Никаких функций и методов pandas. Только питоновские циклы. Замерьте время выполнения кода. Наконец, сравните время в задании 8 и 9. Напишите ниже, кто же победил: чистый python и pandas?\n",
        "\n",
        "**Hint**: Чтобы итерироваться по датафрейму, можно из него сделать генератор через [pd.DataFrame.iterrows](https://pandas.pydata.org/pandas-docs/stable/reference/api/pandas.DataFrame.iterrows.html) или [pd.DataFrame.itertuples](https://pandas.pydata.org/pandas-docs/stable/reference/api/pandas.DataFrame.itertuples.html#pandas.DataFrame.itertuples). К слову, это не все способы итерироваться по датафрейму."
      ]
    },
    {
      "cell_type": "code",
      "execution_count": null,
      "metadata": {
        "id": "F0n4Wh3mX2Np"
      },
      "outputs": [],
      "source": [
        "# (✿◠‿◠)"
      ]
    },
    {
      "cell_type": "markdown",
      "metadata": {
        "id": "vqmB_yeHX2Nq"
      },
      "source": [
        "**А победителем является**: <А ТУТ МОЙ ОТВЕТ, Я ЗАМЕТИЛ, ЧТО В ЗАДАНИИ НУЖНО ЕЩЕ ЧТО-ТО НАПИСАТЬ ПОСЛЕ КОДА, ИНАЧЕ НЕ ПОЛУЧУ ПОЛНЫЙ БАЛЛ ЗА ЗАДАНИЕ>"
      ]
    },
    {
      "cell_type": "markdown",
      "metadata": {
        "id": "MrIpOvUaX2Nq"
      },
      "source": [
        "#### Задание 10\n",
        "\n",
        "Крайне серьезное задание. Отнеситесь к нему соответствующе. В ячейке ниже напишите ваш любимый анекдот или мем (только без баянов, окей?). Можно плохие. Помните, это задание на полный балл. Проверяющий работу ассистент должен улыбнуться.\n",
        "\n",
        "Если вставляете картинку, то убедитесь, что вы ее не подгружаете локально. А то будет неудобно - потерять балл на этом задании, когда надо было выложить картинку на облако и прокинуть ссылку. И нет, нельзя сюда просто ссылку вставить. Либо ищите, как вставить картинку, либо смешной анекдот. Есть всего два стула - выбирайте..."
      ]
    },
    {
      "cell_type": "code",
      "execution_count": null,
      "metadata": {
        "id": "VTslo3jnX2Nq"
      },
      "outputs": [],
      "source": [
        "# ‿( ́ ̵ _-`)‿\n",
        "\n",
        "\n",
        "\n",
        "\n",
        "\n",
        "\n",
        "# Сидит дед, рыбачит. Рядом стоит ведро cпойманной с рыбой. К рыбаку подходит пацан:\n",
        "\n",
        "# — Дед, а что в ведре? Рыба?\n",
        "\n",
        "# Дед подумал, подумал и говорит:\n",
        "\n",
        "# — Ну да"
      ]
    },
    {
      "cell_type": "markdown",
      "metadata": {
        "id": "0AXSYoZTX2Nq"
      },
      "source": []
    }
  ],
  "metadata": {
    "kernelspec": {
      "display_name": "default",
      "language": "python",
      "name": "python3"
    },
    "language_info": {
      "codemirror_mode": {
        "name": "ipython",
        "version": 3
      },
      "file_extension": ".py",
      "mimetype": "text/x-python",
      "name": "python",
      "nbconvert_exporter": "python",
      "pygments_lexer": "ipython3",
      "version": "3.11.9"
    },
    "colab": {
      "provenance": [],
      "toc_visible": true
    }
  },
  "nbformat": 4,
  "nbformat_minor": 0
}